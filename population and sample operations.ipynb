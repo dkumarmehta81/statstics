{
 "cells": [
  {
   "cell_type": "markdown",
   "metadata": {},
   "source": [
    "# central tendency- mean, median, mode, population, sample,pdf,cdf"
   ]
  },
  {
   "cell_type": "code",
   "execution_count": 172,
   "metadata": {},
   "outputs": [],
   "source": [
    "import numpy as np\n",
    "import matplotlib.pyplot as plt\n",
    "import pandas as pd"
   ]
  },
  {
   "cell_type": "code",
   "execution_count": 181,
   "metadata": {},
   "outputs": [
    {
     "data": {
      "text/plain": [
       "array([ 8, 20, 12, 13, 10, 31,  1, 30,  8, 21, 19,  9, 22,  9, 26])"
      ]
     },
     "execution_count": 181,
     "metadata": {},
     "output_type": "execute_result"
    }
   ],
   "source": [
    "m=np.random.randint(0,40,15)\n",
    "m"
   ]
  },
  {
   "cell_type": "code",
   "execution_count": 182,
   "metadata": {},
   "outputs": [
    {
     "data": {
      "text/plain": [
       "15.933333333333334"
      ]
     },
     "execution_count": 182,
     "metadata": {},
     "output_type": "execute_result"
    }
   ],
   "source": [
    "np.mean(m)"
   ]
  },
  {
   "cell_type": "code",
   "execution_count": 183,
   "metadata": {},
   "outputs": [
    {
     "data": {
      "text/plain": [
       "13.0"
      ]
     },
     "execution_count": 183,
     "metadata": {},
     "output_type": "execute_result"
    }
   ],
   "source": [
    "np.median(m)"
   ]
  },
  {
   "cell_type": "code",
   "execution_count": 184,
   "metadata": {},
   "outputs": [],
   "source": [
    "from scipy import stats as s"
   ]
  },
  {
   "cell_type": "code",
   "execution_count": 185,
   "metadata": {},
   "outputs": [
    {
     "data": {
      "text/plain": [
       "array([8])"
      ]
     },
     "execution_count": 185,
     "metadata": {},
     "output_type": "execute_result"
    }
   ],
   "source": [
    "s.mode(m)[0]"
   ]
  },
  {
   "cell_type": "code",
   "execution_count": 187,
   "metadata": {},
   "outputs": [
    {
     "data": {
      "text/plain": [
       "array([16, 13, 15, 19, 12, 18, 16, 16, 13, 15, 12, 16, 18, 16, 15, 15, 10,\n",
       "       11, 17, 10, 18, 10, 10, 14, 19, 18, 18, 19, 19, 11, 11, 17, 14, 14,\n",
       "       14, 13, 10, 18, 18, 15, 19, 13, 16, 15, 11, 11, 13, 15, 10, 12, 16,\n",
       "       19, 14, 18, 16, 12, 13, 10, 13, 14, 12, 19, 18, 14, 14, 18, 19, 10,\n",
       "       10, 15, 10, 15, 10, 14, 17, 10, 12, 19, 12, 17, 18, 17, 16, 14, 10,\n",
       "       19, 16, 11, 11, 18, 14, 13, 18, 15, 16, 12, 19, 13, 14, 16])"
      ]
     },
     "execution_count": 187,
     "metadata": {},
     "output_type": "execute_result"
    }
   ],
   "source": [
    "population=np.random.randint(10,20,100)\n",
    "population"
   ]
  },
  {
   "cell_type": "code",
   "execution_count": 188,
   "metadata": {},
   "outputs": [
    {
     "data": {
      "text/plain": [
       "14.58"
      ]
     },
     "execution_count": 188,
     "metadata": {},
     "output_type": "execute_result"
    }
   ],
   "source": [
    "np.mean(population)"
   ]
  },
  {
   "cell_type": "code",
   "execution_count": 189,
   "metadata": {},
   "outputs": [
    {
     "data": {
      "text/plain": [
       "15.0"
      ]
     },
     "execution_count": 189,
     "metadata": {},
     "output_type": "execute_result"
    }
   ],
   "source": [
    "np.median(population)"
   ]
  },
  {
   "cell_type": "code",
   "execution_count": 197,
   "metadata": {},
   "outputs": [
    {
     "data": {
      "text/plain": [
       "ModeResult(mode=array([10]), count=array([13]))"
      ]
     },
     "execution_count": 197,
     "metadata": {},
     "output_type": "execute_result"
    }
   ],
   "source": [
    "s.mode(population)"
   ]
  },
  {
   "cell_type": "code",
   "execution_count": 198,
   "metadata": {},
   "outputs": [],
   "source": [
    "sample1=np.random.choice(population,15)\n",
    "sample2=np.random.choice(population,15)\n",
    "sample3=np.random.choice(population,15)"
   ]
  },
  {
   "cell_type": "code",
   "execution_count": 199,
   "metadata": {},
   "outputs": [
    {
     "data": {
      "text/plain": [
       "array([11, 16, 13, 14, 10, 17, 17, 19, 19, 11, 19, 14, 12, 10, 11])"
      ]
     },
     "execution_count": 199,
     "metadata": {},
     "output_type": "execute_result"
    }
   ],
   "source": [
    "sample1"
   ]
  },
  {
   "cell_type": "code",
   "execution_count": 200,
   "metadata": {},
   "outputs": [
    {
     "data": {
      "text/plain": [
       "array([16, 18, 16, 17, 14, 14, 15, 14, 10, 15, 16, 14, 10, 15, 14])"
      ]
     },
     "execution_count": 200,
     "metadata": {},
     "output_type": "execute_result"
    }
   ],
   "source": [
    "sample2"
   ]
  },
  {
   "cell_type": "code",
   "execution_count": 201,
   "metadata": {},
   "outputs": [
    {
     "data": {
      "text/plain": [
       "array([19, 10, 19, 18, 14, 18, 15, 17, 15, 12, 14, 18, 16, 16, 11])"
      ]
     },
     "execution_count": 201,
     "metadata": {},
     "output_type": "execute_result"
    }
   ],
   "source": [
    "sample3"
   ]
  },
  {
   "cell_type": "code",
   "execution_count": 202,
   "metadata": {},
   "outputs": [],
   "source": [
    "allsample=[sample1,sample2,sample3]\n",
    "samplemean=[]\n",
    "for i in allsample:\n",
    "    samplemean.append(np.mean(i))"
   ]
  },
  {
   "cell_type": "code",
   "execution_count": 205,
   "metadata": {},
   "outputs": [
    {
     "data": {
      "text/plain": [
       "[14.2, 14.533333333333333, 15.466666666666667]"
      ]
     },
     "execution_count": 205,
     "metadata": {},
     "output_type": "execute_result"
    }
   ],
   "source": [
    "samplemean"
   ]
  },
  {
   "cell_type": "code",
   "execution_count": 206,
   "metadata": {},
   "outputs": [
    {
     "data": {
      "text/plain": [
       "(14.733333333333334, 14.58)"
      ]
     },
     "execution_count": 206,
     "metadata": {},
     "output_type": "execute_result"
    }
   ],
   "source": [
    "np.mean(samplemean),np.mean(population)"
   ]
  },
  {
   "cell_type": "markdown",
   "metadata": {},
   "source": [
    "# discrete distribution"
   ]
  },
  {
   "cell_type": "code",
   "execution_count": 55,
   "metadata": {},
   "outputs": [
    {
     "data": {
      "text/plain": [
       "array([0, 1, 2, 3])"
      ]
     },
     "execution_count": 55,
     "metadata": {},
     "output_type": "execute_result"
    },
    {
     "data": {
      "image/png": "[encoded data removed]",
      "text/plain": [
       "<Figure size 432x288 with 1 Axes>"
      ]
     },
     "metadata": {
      "needs_background": "light"
     },
     "output_type": "display_data"
    }
   ],
   "source": [
    "plt.hist(np.random.randint(0,4,100))\n",
    "np.unique(np.random.randint(0,4,100))"
   ]
  },
  {
   "cell_type": "markdown",
   "metadata": {},
   "source": [
    "# measure of spread, how sample and population data varies"
   ]
  },
  {
   "cell_type": "code",
   "execution_count": 57,
   "metadata": {},
   "outputs": [
    {
     "data": {
      "text/plain": [
       "array([-0.16253472, -1.97702019, -1.37037621, -0.55177876, -0.1333505 ,\n",
       "       -1.1034791 ,  1.51280183,  0.54007723, -1.67397491, -0.50622995,\n",
       "       -0.46670932,  0.80852361, -1.93648197, -0.12008695,  0.23422083,\n",
       "       -0.17986476,  0.14319825,  0.58429466,  0.00334846,  2.24450718,\n",
       "       -1.82913552, -1.35918843, -0.78608309,  1.08619699, -0.62926002,\n",
       "        1.03653653, -0.13854727, -0.47743028,  0.40265625, -1.17924677,\n",
       "        0.63574082, -1.66845055,  0.74379943, -1.1237914 , -0.1683767 ,\n",
       "        0.25094501,  0.62383951,  1.92328733, -0.9731852 , -0.88493064])"
      ]
     },
     "execution_count": 57,
     "metadata": {},
     "output_type": "execute_result"
    }
   ],
   "source": [
    "n=np.random.randn(40)\n",
    "n\n"
   ]
  },
  {
   "cell_type": "code",
   "execution_count": 209,
   "metadata": {},
   "outputs": [
    {
     "data": {
      "text/plain": [
       "2.24450717642263"
      ]
     },
     "execution_count": 209,
     "metadata": {},
     "output_type": "execute_result"
    }
   ],
   "source": [
    "np.max(n)"
   ]
  },
  {
   "cell_type": "code",
   "execution_count": 210,
   "metadata": {},
   "outputs": [
    {
     "data": {
      "text/plain": [
       "-1.9770201943123487"
      ]
     },
     "execution_count": 210,
     "metadata": {},
     "output_type": "execute_result"
    }
   ],
   "source": [
    "np.min(n)"
   ]
  },
  {
   "cell_type": "code",
   "execution_count": 207,
   "metadata": {},
   "outputs": [
    {
     "data": {
      "text/plain": [
       "<AxesSubplot:>"
      ]
     },
     "execution_count": 207,
     "metadata": {},
     "output_type": "execute_result"
    },
    {
     "data": {
      "image/png": "[encoded data removed]",
      "text/plain": [
       "<Figure size 432x288 with 1 Axes>"
      ]
     },
     "metadata": {
      "needs_background": "light"
     },
     "output_type": "display_data"
    }
   ],
   "source": [
    "sns.distplot(n)"
   ]
  },
  {
   "cell_type": "code",
   "execution_count": 211,
   "metadata": {},
   "outputs": [
    {
     "data": {
      "text/plain": [
       "4.221527370734979"
      ]
     },
     "execution_count": 211,
     "metadata": {},
     "output_type": "execute_result"
    }
   ],
   "source": [
    "range=np.max(n)-np.min(n)\n",
    "range"
   ]
  },
  {
   "cell_type": "code",
   "execution_count": 212,
   "metadata": {},
   "outputs": [
    {
     "data": {
      "text/plain": [
       "-1.0057586723728154"
      ]
     },
     "execution_count": 212,
     "metadata": {},
     "output_type": "execute_result"
    }
   ],
   "source": [
    "Q1=np.percentile(n,25)\n",
    "Q1"
   ]
  },
  {
   "cell_type": "code",
   "execution_count": 213,
   "metadata": {},
   "outputs": [
    {
     "data": {
      "text/plain": [
       "-0.16545570684778663"
      ]
     },
     "execution_count": 213,
     "metadata": {},
     "output_type": "execute_result"
    }
   ],
   "source": [
    "Q2=np.percentile(n,50)\n",
    "Q2"
   ]
  },
  {
   "cell_type": "code",
   "execution_count": 214,
   "metadata": {},
   "outputs": [
    {
     "data": {
      "text/plain": [
       "0.5511315881190395"
      ]
     },
     "execution_count": 214,
     "metadata": {},
     "output_type": "execute_result"
    }
   ],
   "source": [
    "Q3=np.percentile(n,75)\n",
    "Q3"
   ]
  },
  {
   "cell_type": "code",
   "execution_count": 215,
   "metadata": {},
   "outputs": [
    {
     "data": {
      "text/plain": [
       "1.5568902604918549"
      ]
     },
     "execution_count": 215,
     "metadata": {},
     "output_type": "execute_result"
    }
   ],
   "source": [
    "IQR=Q3-Q1\n",
    "IQR"
   ]
  },
  {
   "cell_type": "code",
   "execution_count": 70,
   "metadata": {},
   "outputs": [],
   "source": [
    "#variance"
   ]
  },
  {
   "cell_type": "code",
   "execution_count": 216,
   "metadata": {},
   "outputs": [
    {
     "data": {
      "text/plain": [
       "8.6436"
      ]
     },
     "execution_count": 216,
     "metadata": {},
     "output_type": "execute_result"
    }
   ],
   "source": [
    "np.var(population)"
   ]
  },
  {
   "cell_type": "code",
   "execution_count": 217,
   "metadata": {},
   "outputs": [
    {
     "data": {
      "text/plain": [
       "7.884444444444443"
      ]
     },
     "execution_count": 217,
     "metadata": {},
     "output_type": "execute_result"
    }
   ],
   "source": [
    "np.var(allsample)"
   ]
  },
  {
   "cell_type": "code",
   "execution_count": 218,
   "metadata": {},
   "outputs": [
    {
     "data": {
      "text/plain": [
       "2.94"
      ]
     },
     "execution_count": 218,
     "metadata": {},
     "output_type": "execute_result"
    }
   ],
   "source": [
    "np.std(population)"
   ]
  },
  {
   "cell_type": "code",
   "execution_count": 219,
   "metadata": {},
   "outputs": [
    {
     "data": {
      "text/plain": [
       "2.807925291820358"
      ]
     },
     "execution_count": 219,
     "metadata": {},
     "output_type": "execute_result"
    }
   ],
   "source": [
    "np.std(allsample)"
   ]
  },
  {
   "cell_type": "markdown",
   "metadata": {},
   "source": [
    "# descriptive stat and infrential stat"
   ]
  },
  {
   "cell_type": "code",
   "execution_count": 220,
   "metadata": {},
   "outputs": [],
   "source": [
    "\n",
    "df=pd.DataFrame(dict(Id=np.arange(1,7),age=np.random.randint(18,31,size=6)))"
   ]
  },
  {
   "cell_type": "code",
   "execution_count": 221,
   "metadata": {},
   "outputs": [
    {
     "data": {
      "text/html": [
       "<div>\n",
       "<style scoped>\n",
       "    .dataframe tbody tr th:only-of-type {\n",
       "        vertical-align: middle;\n",
       "    }\n",
       "\n",
       "    .dataframe tbody tr th {\n",
       "        vertical-align: top;\n",
       "    }\n",
       "\n",
       "    .dataframe thead th {\n",
       "        text-align: right;\n",
       "    }\n",
       "</style>\n",
       "<table border=\"1\" class=\"dataframe\">\n",
       "  <thead>\n",
       "    <tr style=\"text-align: right;\">\n",
       "      <th></th>\n",
       "      <th>Id</th>\n",
       "      <th>age</th>\n",
       "    </tr>\n",
       "  </thead>\n",
       "  <tbody>\n",
       "    <tr>\n",
       "      <th>0</th>\n",
       "      <td>1</td>\n",
       "      <td>22</td>\n",
       "    </tr>\n",
       "    <tr>\n",
       "      <th>1</th>\n",
       "      <td>2</td>\n",
       "      <td>23</td>\n",
       "    </tr>\n",
       "    <tr>\n",
       "      <th>2</th>\n",
       "      <td>3</td>\n",
       "      <td>30</td>\n",
       "    </tr>\n",
       "    <tr>\n",
       "      <th>3</th>\n",
       "      <td>4</td>\n",
       "      <td>22</td>\n",
       "    </tr>\n",
       "    <tr>\n",
       "      <th>4</th>\n",
       "      <td>5</td>\n",
       "      <td>26</td>\n",
       "    </tr>\n",
       "    <tr>\n",
       "      <th>5</th>\n",
       "      <td>6</td>\n",
       "      <td>21</td>\n",
       "    </tr>\n",
       "  </tbody>\n",
       "</table>\n",
       "</div>"
      ],
      "text/plain": [
       "   Id  age\n",
       "0   1   22\n",
       "1   2   23\n",
       "2   3   30\n",
       "3   4   22\n",
       "4   5   26\n",
       "5   6   21"
      ]
     },
     "execution_count": 221,
     "metadata": {},
     "output_type": "execute_result"
    }
   ],
   "source": [
    "df"
   ]
  },
  {
   "cell_type": "code",
   "execution_count": 222,
   "metadata": {},
   "outputs": [
    {
     "data": {
      "text/plain": [
       "24.0"
      ]
     },
     "execution_count": 222,
     "metadata": {},
     "output_type": "execute_result"
    }
   ],
   "source": [
    "df.age.mean()"
   ]
  },
  {
   "cell_type": "code",
   "execution_count": 224,
   "metadata": {},
   "outputs": [
    {
     "data": {
      "text/plain": [
       "3.40587727318528"
      ]
     },
     "execution_count": 224,
     "metadata": {},
     "output_type": "execute_result"
    }
   ],
   "source": [
    "df.age.std()"
   ]
  },
  {
   "cell_type": "code",
   "execution_count": 225,
   "metadata": {},
   "outputs": [
    {
     "data": {
      "text/plain": [
       "11.6"
      ]
     },
     "execution_count": 225,
     "metadata": {},
     "output_type": "execute_result"
    }
   ],
   "source": [
    "df.age.var()"
   ]
  },
  {
   "cell_type": "code",
   "execution_count": 226,
   "metadata": {},
   "outputs": [
    {
     "data": {
      "text/plain": [
       "30"
      ]
     },
     "execution_count": 226,
     "metadata": {},
     "output_type": "execute_result"
    }
   ],
   "source": [
    "df.age.max()"
   ]
  },
  {
   "cell_type": "code",
   "execution_count": 227,
   "metadata": {},
   "outputs": [
    {
     "data": {
      "text/plain": [
       "<AxesSubplot:>"
      ]
     },
     "execution_count": 227,
     "metadata": {},
     "output_type": "execute_result"
    },
    {
     "data": {
      "image/png": "[encoded data removed]",
      "text/plain": [
       "<Figure size 432x288 with 1 Axes>"
      ]
     },
     "metadata": {
      "needs_background": "light"
     },
     "output_type": "display_data"
    }
   ],
   "source": [
    "df.boxplot(column=\"age\",return_type=\"axes\")"
   ]
  },
  {
   "cell_type": "code",
   "execution_count": 111,
   "metadata": {},
   "outputs": [],
   "source": [
    "import seaborn as sns"
   ]
  },
  {
   "cell_type": "code",
   "execution_count": 228,
   "metadata": {},
   "outputs": [
    {
     "data": {
      "text/plain": [
       "<AxesSubplot:xlabel='age'>"
      ]
     },
     "execution_count": 228,
     "metadata": {},
     "output_type": "execute_result"
    },
    {
     "data": {
      "image/png": "[encoded data removed]",
      "text/plain": [
       "<Figure size 432x288 with 1 Axes>"
      ]
     },
     "metadata": {
      "needs_background": "light"
     },
     "output_type": "display_data"
    }
   ],
   "source": [
    "sns.distplot(df.age)"
   ]
  },
  {
   "cell_type": "code",
   "execution_count": 113,
   "metadata": {},
   "outputs": [],
   "source": [
    "#skewness and kurtosis"
   ]
  },
  {
   "cell_type": "code",
   "execution_count": 230,
   "metadata": {},
   "outputs": [
    {
     "data": {
      "text/plain": [
       "1.3668056833531892"
      ]
     },
     "execution_count": 230,
     "metadata": {},
     "output_type": "execute_result"
    }
   ],
   "source": [
    "df.age.skew()  #[mean-mode/std]"
   ]
  },
  {
   "cell_type": "code",
   "execution_count": 231,
   "metadata": {},
   "outputs": [
    {
     "data": {
      "text/plain": [
       "1.1682520808561234"
      ]
     },
     "execution_count": 231,
     "metadata": {},
     "output_type": "execute_result"
    }
   ],
   "source": [
    "df.age.kurt() "
   ]
  },
  {
   "cell_type": "code",
   "execution_count": 232,
   "metadata": {},
   "outputs": [],
   "source": [
    "#infrential stat"
   ]
  },
  {
   "cell_type": "code",
   "execution_count": 121,
   "metadata": {},
   "outputs": [],
   "source": [
    "population=np.random.randint(10,20,1000)\n",
    "np.random.seed(10)\n",
    "estimates=[]\n",
    "for i in np.arange(0,200):\n",
    "    sample=np.random.choice(population,size=100)\n",
    "    estimates.append(sample.mean())"
   ]
  },
  {
   "cell_type": "code",
   "execution_count": 122,
   "metadata": {},
   "outputs": [
    {
     "data": {
      "text/plain": [
       "[14.29,\n",
       " 15.16,\n",
       " 14.12,\n",
       " 14.38,\n",
       " 14.81,\n",
       " 14.7,\n",
       " 14.87,\n",
       " 15.25,\n",
       " 14.72,\n",
       " 14.44,\n",
       " 14.54,\n",
       " 14.55,\n",
       " 14.08,\n",
       " 14.22,\n",
       " 14.79,\n",
       " 14.29,\n",
       " 14.86,\n",
       " 14.49,\n",
       " 14.44,\n",
       " 14.15,\n",
       " 15.01,\n",
       " 14.65,\n",
       " 14.35,\n",
       " 15.02,\n",
       " 14.42,\n",
       " 14.44,\n",
       " 14.25,\n",
       " 14.94,\n",
       " 14.52,\n",
       " 13.99,\n",
       " 14.4,\n",
       " 14.61,\n",
       " 14.74,\n",
       " 14.53,\n",
       " 14.14,\n",
       " 13.85,\n",
       " 14.65,\n",
       " 14.23,\n",
       " 14.14,\n",
       " 14.27,\n",
       " 14.63,\n",
       " 14.36,\n",
       " 14.45,\n",
       " 14.71,\n",
       " 14.56,\n",
       " 14.75,\n",
       " 14.16,\n",
       " 14.54,\n",
       " 14.28,\n",
       " 14.28,\n",
       " 14.37,\n",
       " 14.22,\n",
       " 14.35,\n",
       " 14.64,\n",
       " 14.31,\n",
       " 14.9,\n",
       " 14.06,\n",
       " 14.17,\n",
       " 14.31,\n",
       " 14.64,\n",
       " 14.2,\n",
       " 14.54,\n",
       " 14.12,\n",
       " 14.57,\n",
       " 14.2,\n",
       " 14.62,\n",
       " 14.67,\n",
       " 14.2,\n",
       " 14.74,\n",
       " 14.43,\n",
       " 14.9,\n",
       " 14.87,\n",
       " 14.57,\n",
       " 14.75,\n",
       " 14.56,\n",
       " 14.28,\n",
       " 14.94,\n",
       " 14.48,\n",
       " 14.2,\n",
       " 14.56,\n",
       " 14.6,\n",
       " 14.74,\n",
       " 14.2,\n",
       " 14.17,\n",
       " 14.53,\n",
       " 14.64,\n",
       " 13.86,\n",
       " 14.46,\n",
       " 14.91,\n",
       " 14.54,\n",
       " 14.62,\n",
       " 14.4,\n",
       " 14.77,\n",
       " 14.91,\n",
       " 14.37,\n",
       " 14.39,\n",
       " 14.88,\n",
       " 14.6,\n",
       " 14.78,\n",
       " 13.99,\n",
       " 14.59,\n",
       " 14.21,\n",
       " 14.25,\n",
       " 14.19,\n",
       " 14.74,\n",
       " 14.69,\n",
       " 14.07,\n",
       " 14.29,\n",
       " 14.43,\n",
       " 14.6,\n",
       " 14.05,\n",
       " 14.3,\n",
       " 14.89,\n",
       " 14.46,\n",
       " 14.26,\n",
       " 14.78,\n",
       " 14.85,\n",
       " 14.18,\n",
       " 14.13,\n",
       " 15.01,\n",
       " 14.45,\n",
       " 14.54,\n",
       " 14.55,\n",
       " 14.39,\n",
       " 14.87,\n",
       " 14.77,\n",
       " 14.05,\n",
       " 14.55,\n",
       " 14.48,\n",
       " 14.23,\n",
       " 14.8,\n",
       " 14.89,\n",
       " 14.5,\n",
       " 14.65,\n",
       " 14.86,\n",
       " 14.5,\n",
       " 14.37,\n",
       " 14.55,\n",
       " 14.43,\n",
       " 14.75,\n",
       " 15.22,\n",
       " 14.28,\n",
       " 14.16,\n",
       " 14.44,\n",
       " 14.83,\n",
       " 14.59,\n",
       " 14.71,\n",
       " 14.51,\n",
       " 14.23,\n",
       " 14.4,\n",
       " 13.98,\n",
       " 14.83,\n",
       " 14.56,\n",
       " 14.25,\n",
       " 14.76,\n",
       " 14.49,\n",
       " 14.71,\n",
       " 14.18,\n",
       " 14.46,\n",
       " 13.93,\n",
       " 14.98,\n",
       " 14.53,\n",
       " 14.78,\n",
       " 14.28,\n",
       " 14.29,\n",
       " 14.21,\n",
       " 14.77,\n",
       " 14.39,\n",
       " 14.65,\n",
       " 14.16,\n",
       " 14.8,\n",
       " 14.71,\n",
       " 14.67,\n",
       " 14.69,\n",
       " 14.79,\n",
       " 14.44,\n",
       " 14.74,\n",
       " 14.79,\n",
       " 15.05,\n",
       " 14.5,\n",
       " 14.53,\n",
       " 14.78,\n",
       " 14.47,\n",
       " 14.57,\n",
       " 14.4,\n",
       " 14.1,\n",
       " 14.18,\n",
       " 14.05,\n",
       " 14.38,\n",
       " 14.16,\n",
       " 14.62,\n",
       " 14.57,\n",
       " 14.69,\n",
       " 14.61,\n",
       " 14.42,\n",
       " 14.16,\n",
       " 14.76,\n",
       " 14.51,\n",
       " 14.94]"
      ]
     },
     "execution_count": 122,
     "metadata": {},
     "output_type": "execute_result"
    }
   ],
   "source": [
    "estimates"
   ]
  },
  {
   "cell_type": "code",
   "execution_count": 234,
   "metadata": {},
   "outputs": [
    {
     "data": {
      "text/plain": [
       "14.58"
      ]
     },
     "execution_count": 234,
     "metadata": {},
     "output_type": "execute_result"
    }
   ],
   "source": [
    "np.mean(population)"
   ]
  },
  {
   "cell_type": "code",
   "execution_count": 235,
   "metadata": {},
   "outputs": [
    {
     "data": {
      "text/plain": [
       "<AxesSubplot:ylabel='Density'>"
      ]
     },
     "execution_count": 235,
     "metadata": {},
     "output_type": "execute_result"
    },
    {
     "data": {
      "image/png": "[encoded data removed]",
      "text/plain": [
       "<Figure size 432x288 with 1 Axes>"
      ]
     },
     "metadata": {
      "needs_background": "light"
     },
     "output_type": "display_data"
    }
   ],
   "source": [
    "pd.DataFrame(estimates).plot(kind=\"density\")"
   ]
  },
  {
   "cell_type": "code",
   "execution_count": 136,
   "metadata": {},
   "outputs": [],
   "source": [
    "#PMF\n",
    "#PDF\n",
    "#CDF"
   ]
  },
  {
   "cell_type": "code",
   "execution_count": 236,
   "metadata": {},
   "outputs": [
    {
     "data": {
      "text/plain": [
       "array([5, 4, 8, 9, 7, 3, 3, 3, 5, 4, 9, 4, 4, 7, 8, 7, 5, 9, 2, 5, 4, 8,\n",
       "       3, 9, 4, 4, 9, 5, 4, 5, 9, 7, 2, 7, 8, 9, 6, 7, 8, 8])"
      ]
     },
     "execution_count": 236,
     "metadata": {},
     "output_type": "execute_result"
    }
   ],
   "source": [
    "m=np.random.randint(2,10,40)\n",
    "m"
   ]
  },
  {
   "cell_type": "code",
   "execution_count": 237,
   "metadata": {},
   "outputs": [
    {
     "data": {
      "text/html": [
       "<div>\n",
       "<style scoped>\n",
       "    .dataframe tbody tr th:only-of-type {\n",
       "        vertical-align: middle;\n",
       "    }\n",
       "\n",
       "    .dataframe tbody tr th {\n",
       "        vertical-align: top;\n",
       "    }\n",
       "\n",
       "    .dataframe thead th {\n",
       "        text-align: right;\n",
       "    }\n",
       "</style>\n",
       "<table border=\"1\" class=\"dataframe\">\n",
       "  <thead>\n",
       "    <tr style=\"text-align: right;\">\n",
       "      <th></th>\n",
       "      <th>0</th>\n",
       "    </tr>\n",
       "  </thead>\n",
       "  <tbody>\n",
       "    <tr>\n",
       "      <th>4</th>\n",
       "      <td>8</td>\n",
       "    </tr>\n",
       "    <tr>\n",
       "      <th>9</th>\n",
       "      <td>7</td>\n",
       "    </tr>\n",
       "    <tr>\n",
       "      <th>8</th>\n",
       "      <td>6</td>\n",
       "    </tr>\n",
       "    <tr>\n",
       "      <th>7</th>\n",
       "      <td>6</td>\n",
       "    </tr>\n",
       "    <tr>\n",
       "      <th>5</th>\n",
       "      <td>6</td>\n",
       "    </tr>\n",
       "    <tr>\n",
       "      <th>3</th>\n",
       "      <td>4</td>\n",
       "    </tr>\n",
       "    <tr>\n",
       "      <th>2</th>\n",
       "      <td>2</td>\n",
       "    </tr>\n",
       "    <tr>\n",
       "      <th>6</th>\n",
       "      <td>1</td>\n",
       "    </tr>\n",
       "  </tbody>\n",
       "</table>\n",
       "</div>"
      ],
      "text/plain": [
       "   0\n",
       "4  8\n",
       "9  7\n",
       "8  6\n",
       "7  6\n",
       "5  6\n",
       "3  4\n",
       "2  2\n",
       "6  1"
      ]
     },
     "execution_count": 237,
     "metadata": {},
     "output_type": "execute_result"
    }
   ],
   "source": [
    "df=pd.DataFrame(m)\n",
    "df=pd.DataFrame(df[0].value_counts())\n",
    "df"
   ]
  },
  {
   "cell_type": "code",
   "execution_count": 238,
   "metadata": {},
   "outputs": [
    {
     "data": {
      "text/plain": [
       "40"
      ]
     },
     "execution_count": 238,
     "metadata": {},
     "output_type": "execute_result"
    }
   ],
   "source": [
    "length=len(m)\n",
    "length"
   ]
  },
  {
   "cell_type": "code",
   "execution_count": 239,
   "metadata": {},
   "outputs": [
    {
     "data": {
      "text/html": [
       "<div>\n",
       "<style scoped>\n",
       "    .dataframe tbody tr th:only-of-type {\n",
       "        vertical-align: middle;\n",
       "    }\n",
       "\n",
       "    .dataframe tbody tr th {\n",
       "        vertical-align: top;\n",
       "    }\n",
       "\n",
       "    .dataframe thead th {\n",
       "        text-align: right;\n",
       "    }\n",
       "</style>\n",
       "<table border=\"1\" class=\"dataframe\">\n",
       "  <thead>\n",
       "    <tr style=\"text-align: right;\">\n",
       "      <th></th>\n",
       "      <th>0</th>\n",
       "    </tr>\n",
       "  </thead>\n",
       "  <tbody>\n",
       "    <tr>\n",
       "      <th>4</th>\n",
       "      <td>8</td>\n",
       "    </tr>\n",
       "    <tr>\n",
       "      <th>9</th>\n",
       "      <td>7</td>\n",
       "    </tr>\n",
       "    <tr>\n",
       "      <th>8</th>\n",
       "      <td>6</td>\n",
       "    </tr>\n",
       "    <tr>\n",
       "      <th>7</th>\n",
       "      <td>6</td>\n",
       "    </tr>\n",
       "    <tr>\n",
       "      <th>5</th>\n",
       "      <td>6</td>\n",
       "    </tr>\n",
       "    <tr>\n",
       "      <th>3</th>\n",
       "      <td>4</td>\n",
       "    </tr>\n",
       "    <tr>\n",
       "      <th>2</th>\n",
       "      <td>2</td>\n",
       "    </tr>\n",
       "    <tr>\n",
       "      <th>6</th>\n",
       "      <td>1</td>\n",
       "    </tr>\n",
       "  </tbody>\n",
       "</table>\n",
       "</div>"
      ],
      "text/plain": [
       "   0\n",
       "4  8\n",
       "9  7\n",
       "8  6\n",
       "7  6\n",
       "5  6\n",
       "3  4\n",
       "2  2\n",
       "6  1"
      ]
     },
     "execution_count": 239,
     "metadata": {},
     "output_type": "execute_result"
    }
   ],
   "source": [
    "data=pd.DataFrame(df[0])\n",
    "data"
   ]
  },
  {
   "cell_type": "code",
   "execution_count": 240,
   "metadata": {},
   "outputs": [
    {
     "data": {
      "text/html": [
       "<div>\n",
       "<style scoped>\n",
       "    .dataframe tbody tr th:only-of-type {\n",
       "        vertical-align: middle;\n",
       "    }\n",
       "\n",
       "    .dataframe tbody tr th {\n",
       "        vertical-align: top;\n",
       "    }\n",
       "\n",
       "    .dataframe thead th {\n",
       "        text-align: right;\n",
       "    }\n",
       "</style>\n",
       "<table border=\"1\" class=\"dataframe\">\n",
       "  <thead>\n",
       "    <tr style=\"text-align: right;\">\n",
       "      <th></th>\n",
       "      <th>counts</th>\n",
       "    </tr>\n",
       "  </thead>\n",
       "  <tbody>\n",
       "    <tr>\n",
       "      <th>4</th>\n",
       "      <td>8</td>\n",
       "    </tr>\n",
       "    <tr>\n",
       "      <th>9</th>\n",
       "      <td>7</td>\n",
       "    </tr>\n",
       "    <tr>\n",
       "      <th>8</th>\n",
       "      <td>6</td>\n",
       "    </tr>\n",
       "    <tr>\n",
       "      <th>7</th>\n",
       "      <td>6</td>\n",
       "    </tr>\n",
       "    <tr>\n",
       "      <th>5</th>\n",
       "      <td>6</td>\n",
       "    </tr>\n",
       "    <tr>\n",
       "      <th>3</th>\n",
       "      <td>4</td>\n",
       "    </tr>\n",
       "    <tr>\n",
       "      <th>2</th>\n",
       "      <td>2</td>\n",
       "    </tr>\n",
       "    <tr>\n",
       "      <th>6</th>\n",
       "      <td>1</td>\n",
       "    </tr>\n",
       "  </tbody>\n",
       "</table>\n",
       "</div>"
      ],
      "text/plain": [
       "   counts\n",
       "4       8\n",
       "9       7\n",
       "8       6\n",
       "7       6\n",
       "5       6\n",
       "3       4\n",
       "2       2\n",
       "6       1"
      ]
     },
     "execution_count": 240,
     "metadata": {},
     "output_type": "execute_result"
    }
   ],
   "source": [
    "data.columns=[\"counts\"]\n",
    "data"
   ]
  },
  {
   "cell_type": "code",
   "execution_count": 241,
   "metadata": {},
   "outputs": [
    {
     "data": {
      "text/html": [
       "<div>\n",
       "<style scoped>\n",
       "    .dataframe tbody tr th:only-of-type {\n",
       "        vertical-align: middle;\n",
       "    }\n",
       "\n",
       "    .dataframe tbody tr th {\n",
       "        vertical-align: top;\n",
       "    }\n",
       "\n",
       "    .dataframe thead th {\n",
       "        text-align: right;\n",
       "    }\n",
       "</style>\n",
       "<table border=\"1\" class=\"dataframe\">\n",
       "  <thead>\n",
       "    <tr style=\"text-align: right;\">\n",
       "      <th></th>\n",
       "      <th>counts</th>\n",
       "      <th>prob</th>\n",
       "    </tr>\n",
       "  </thead>\n",
       "  <tbody>\n",
       "    <tr>\n",
       "      <th>4</th>\n",
       "      <td>8</td>\n",
       "      <td>0.200</td>\n",
       "    </tr>\n",
       "    <tr>\n",
       "      <th>9</th>\n",
       "      <td>7</td>\n",
       "      <td>0.175</td>\n",
       "    </tr>\n",
       "    <tr>\n",
       "      <th>8</th>\n",
       "      <td>6</td>\n",
       "      <td>0.150</td>\n",
       "    </tr>\n",
       "    <tr>\n",
       "      <th>7</th>\n",
       "      <td>6</td>\n",
       "      <td>0.150</td>\n",
       "    </tr>\n",
       "    <tr>\n",
       "      <th>5</th>\n",
       "      <td>6</td>\n",
       "      <td>0.150</td>\n",
       "    </tr>\n",
       "    <tr>\n",
       "      <th>3</th>\n",
       "      <td>4</td>\n",
       "      <td>0.100</td>\n",
       "    </tr>\n",
       "    <tr>\n",
       "      <th>2</th>\n",
       "      <td>2</td>\n",
       "      <td>0.050</td>\n",
       "    </tr>\n",
       "    <tr>\n",
       "      <th>6</th>\n",
       "      <td>1</td>\n",
       "      <td>0.025</td>\n",
       "    </tr>\n",
       "  </tbody>\n",
       "</table>\n",
       "</div>"
      ],
      "text/plain": [
       "   counts   prob\n",
       "4       8  0.200\n",
       "9       7  0.175\n",
       "8       6  0.150\n",
       "7       6  0.150\n",
       "5       6  0.150\n",
       "3       4  0.100\n",
       "2       2  0.050\n",
       "6       1  0.025"
      ]
     },
     "execution_count": 241,
     "metadata": {},
     "output_type": "execute_result"
    }
   ],
   "source": [
    "data[\"prob\"]=data[\"counts\"]/length\n",
    "data"
   ]
  },
  {
   "cell_type": "code",
   "execution_count": 242,
   "metadata": {},
   "outputs": [
    {
     "data": {
      "text/plain": [
       "<BarContainer object of 8 artists>"
      ]
     },
     "execution_count": 242,
     "metadata": {},
     "output_type": "execute_result"
    },
    {
     "data": {
      "image/png": "[encoded data removed]",
      "text/plain": [
       "<Figure size 432x288 with 1 Axes>"
      ]
     },
     "metadata": {
      "needs_background": "light"
     },
     "output_type": "display_data"
    }
   ],
   "source": [
    "plt.bar(data[\"counts\"],data[\"prob\"])"
   ]
  },
  {
   "cell_type": "code",
   "execution_count": 243,
   "metadata": {},
   "outputs": [
    {
     "data": {
      "text/plain": [
       "<AxesSubplot:xlabel='counts', ylabel='prob'>"
      ]
     },
     "execution_count": 243,
     "metadata": {},
     "output_type": "execute_result"
    },
    {
     "data": {
      "image/png": "[encoded data removed]",
      "text/plain": [
       "<Figure size 432x288 with 1 Axes>"
      ]
     },
     "metadata": {
      "needs_background": "light"
     },
     "output_type": "display_data"
    }
   ],
   "source": [
    "sns.barplot(data.counts,data.prob)#Probability mass function"
   ]
  },
  {
   "cell_type": "code",
   "execution_count": 244,
   "metadata": {},
   "outputs": [
    {
     "data": {
      "text/html": [
       "<div>\n",
       "<style scoped>\n",
       "    .dataframe tbody tr th:only-of-type {\n",
       "        vertical-align: middle;\n",
       "    }\n",
       "\n",
       "    .dataframe tbody tr th {\n",
       "        vertical-align: top;\n",
       "    }\n",
       "\n",
       "    .dataframe thead th {\n",
       "        text-align: right;\n",
       "    }\n",
       "</style>\n",
       "<table border=\"1\" class=\"dataframe\">\n",
       "  <thead>\n",
       "    <tr style=\"text-align: right;\">\n",
       "      <th></th>\n",
       "      <th>candy</th>\n",
       "      <th>total</th>\n",
       "    </tr>\n",
       "  </thead>\n",
       "  <tbody>\n",
       "    <tr>\n",
       "      <th>0</th>\n",
       "      <td>blue</td>\n",
       "      <td>3000</td>\n",
       "    </tr>\n",
       "    <tr>\n",
       "      <th>1</th>\n",
       "      <td>orange</td>\n",
       "      <td>18000</td>\n",
       "    </tr>\n",
       "    <tr>\n",
       "      <th>2</th>\n",
       "      <td>green</td>\n",
       "      <td>2000</td>\n",
       "    </tr>\n",
       "    <tr>\n",
       "      <th>3</th>\n",
       "      <td>purple</td>\n",
       "      <td>12000</td>\n",
       "    </tr>\n",
       "  </tbody>\n",
       "</table>\n",
       "</div>"
      ],
      "text/plain": [
       "    candy  total\n",
       "0    blue   3000\n",
       "1  orange  18000\n",
       "2   green   2000\n",
       "3  purple  12000"
      ]
     },
     "execution_count": 244,
     "metadata": {},
     "output_type": "execute_result"
    }
   ],
   "source": [
    "data={\"candy\":[\"blue\",\"orange\",\"green\",\"purple\"],\"total\":[3000,18000,2000,12000]}\n",
    "df=pd.DataFrame(data)\n",
    "df"
   ]
  },
  {
   "cell_type": "code",
   "execution_count": 245,
   "metadata": {},
   "outputs": [],
   "source": [
    "df[\"pmf\"]=df[\"total\"]/df[\"total\"].sum()#pmf"
   ]
  },
  {
   "cell_type": "code",
   "execution_count": 246,
   "metadata": {},
   "outputs": [
    {
     "data": {
      "text/html": [
       "<div>\n",
       "<style scoped>\n",
       "    .dataframe tbody tr th:only-of-type {\n",
       "        vertical-align: middle;\n",
       "    }\n",
       "\n",
       "    .dataframe tbody tr th {\n",
       "        vertical-align: top;\n",
       "    }\n",
       "\n",
       "    .dataframe thead th {\n",
       "        text-align: right;\n",
       "    }\n",
       "</style>\n",
       "<table border=\"1\" class=\"dataframe\">\n",
       "  <thead>\n",
       "    <tr style=\"text-align: right;\">\n",
       "      <th></th>\n",
       "      <th>candy</th>\n",
       "      <th>total</th>\n",
       "      <th>pmf</th>\n",
       "    </tr>\n",
       "  </thead>\n",
       "  <tbody>\n",
       "    <tr>\n",
       "      <th>0</th>\n",
       "      <td>blue</td>\n",
       "      <td>3000</td>\n",
       "      <td>0.085714</td>\n",
       "    </tr>\n",
       "    <tr>\n",
       "      <th>1</th>\n",
       "      <td>orange</td>\n",
       "      <td>18000</td>\n",
       "      <td>0.514286</td>\n",
       "    </tr>\n",
       "    <tr>\n",
       "      <th>2</th>\n",
       "      <td>green</td>\n",
       "      <td>2000</td>\n",
       "      <td>0.057143</td>\n",
       "    </tr>\n",
       "    <tr>\n",
       "      <th>3</th>\n",
       "      <td>purple</td>\n",
       "      <td>12000</td>\n",
       "      <td>0.342857</td>\n",
       "    </tr>\n",
       "  </tbody>\n",
       "</table>\n",
       "</div>"
      ],
      "text/plain": [
       "    candy  total       pmf\n",
       "0    blue   3000  0.085714\n",
       "1  orange  18000  0.514286\n",
       "2   green   2000  0.057143\n",
       "3  purple  12000  0.342857"
      ]
     },
     "execution_count": 246,
     "metadata": {},
     "output_type": "execute_result"
    }
   ],
   "source": [
    "df"
   ]
  },
  {
   "cell_type": "code",
   "execution_count": 247,
   "metadata": {},
   "outputs": [
    {
     "data": {
      "text/plain": [
       "<AxesSubplot:xlabel='candy', ylabel='pmf'>"
      ]
     },
     "execution_count": 247,
     "metadata": {},
     "output_type": "execute_result"
    },
    {
     "data": {
      "image/png": "[encoded data removed]",
      "text/plain": [
       "<Figure size 432x288 with 1 Axes>"
      ]
     },
     "metadata": {
      "needs_background": "light"
     },
     "output_type": "display_data"
    }
   ],
   "source": [
    "sns.barplot(df.candy,df.pmf)"
   ]
  },
  {
   "cell_type": "code",
   "execution_count": 155,
   "metadata": {},
   "outputs": [],
   "source": [
    "#PDF"
   ]
  },
  {
   "cell_type": "code",
   "execution_count": 252,
   "metadata": {},
   "outputs": [
    {
     "name": "stdout",
     "output_type": "stream",
     "text": [
      "0.06007427210981448\n"
     ]
    },
    {
     "data": {
      "text/plain": [
       "<AxesSubplot:>"
      ]
     },
     "execution_count": 252,
     "metadata": {},
     "output_type": "execute_result"
    },
    {
     "data": {
      "image/png": "[encoded data removed]",
      "text/plain": [
       "<Figure size 432x288 with 1 Axes>"
      ]
     },
     "metadata": {
      "needs_background": "light"
     },
     "output_type": "display_data"
    }
   ],
   "source": [
    "data=np.random.normal(size=100)\n",
    "print(np.mean(data))\n",
    "sns.distplot(data)"
   ]
  },
  {
   "cell_type": "code",
   "execution_count": 254,
   "metadata": {},
   "outputs": [
    {
     "data": {
      "text/plain": [
       "[14.164725110960882,\n",
       " 15.895777669594423,\n",
       " 16.086579379602018,\n",
       " 16.268308102935137,\n",
       " 16.37591305893624,\n",
       " 16.50749321906812,\n",
       " 16.696312939008465,\n",
       " 16.87079352335154,\n",
       " 16.962649479979625,\n",
       " 17.18641986692328,\n",
       " 17.379469881196997,\n",
       " 17.410474904637148,\n",
       " 17.45652259048297,\n",
       " 17.491056963310797,\n",
       " 17.526148028004584,\n",
       " 17.57934371932237,\n",
       " 18.156648426505143,\n",
       " 18.22523095941518,\n",
       " 18.231668646769023,\n",
       " 18.349424467867234,\n",
       " 18.496132511644305,\n",
       " 18.69498329248199,\n",
       " 18.84733978978332,\n",
       " 18.903606475101736,\n",
       " 18.937534811068577,\n",
       " 18.942942594500998,\n",
       " 18.989368510687125,\n",
       " 19.005860146781938,\n",
       " 19.036495034653463,\n",
       " 19.07716199862433,\n",
       " 19.092569285977284,\n",
       " 19.093618693087052,\n",
       " 19.12191320135389,\n",
       " 19.135482153376564,\n",
       " 19.13757821944984,\n",
       " 19.20413107296751,\n",
       " 19.391016865505755,\n",
       " 19.39909495144187,\n",
       " 19.408578976320417,\n",
       " 19.593273565064262,\n",
       " 19.596851294484942,\n",
       " 19.598820305506067,\n",
       " 19.649578544991623,\n",
       " 19.663615855806185,\n",
       " 19.666572632926265,\n",
       " 19.696392436173053,\n",
       " 19.713663233086926,\n",
       " 19.819687318499156,\n",
       " 19.823005247287426,\n",
       " 19.936727724872725,\n",
       " 19.936954187559177,\n",
       " 20.041969961808704,\n",
       " 20.239557535758728,\n",
       " 20.263795984276985,\n",
       " 20.282053804954124,\n",
       " 20.301382234939716,\n",
       " 20.34660761764324,\n",
       " 20.371503815176812,\n",
       " 20.402582751749957,\n",
       " 20.40296636524572,\n",
       " 20.507835032181625,\n",
       " 20.530797962332866,\n",
       " 20.55011577271348,\n",
       " 20.56919393820046,\n",
       " 20.639405820585164,\n",
       " 20.644007597641043,\n",
       " 20.649219481675118,\n",
       " 20.77998370077658,\n",
       " 20.828417517992577,\n",
       " 20.99779581021551,\n",
       " 21.111861012135844,\n",
       " 21.18100660807757,\n",
       " 21.18892520540922,\n",
       " 21.23493224888237,\n",
       " 21.311425171398184,\n",
       " 21.38364424620877,\n",
       " 21.457544420114402,\n",
       " 21.475313560858552,\n",
       " 21.548025326991766,\n",
       " 21.590305780105545,\n",
       " 21.71187834670646,\n",
       " 21.826176078735358,\n",
       " 21.871609557952844,\n",
       " 21.957204066143394,\n",
       " 21.985395708320716,\n",
       " 22.06096306094219,\n",
       " 22.073142193129257,\n",
       " 22.17060972115007,\n",
       " 22.417462921972426,\n",
       " 22.509304189059613,\n",
       " 22.61743024419261,\n",
       " 22.646347227145043,\n",
       " 22.73621219808129,\n",
       " 22.736238231878318,\n",
       " 23.314257849902233,\n",
       " 23.436164134777574,\n",
       " 23.447606170791534,\n",
       " 23.646425905389986,\n",
       " 23.74819370953705,\n",
       " 24.775396753001445]"
      ]
     },
     "execution_count": 254,
     "metadata": {},
     "output_type": "execute_result"
    }
   ],
   "source": [
    "mu=20\n",
    "sigma=2\n",
    "h=sorted(np.random.normal(mu,sigma,100))\n",
    "h"
   ]
  },
  {
   "cell_type": "code",
   "execution_count": 255,
   "metadata": {},
   "outputs": [
    {
     "data": {
      "text/plain": [
       "<AxesSubplot:>"
      ]
     },
     "execution_count": 255,
     "metadata": {},
     "output_type": "execute_result"
    },
    {
     "data": {
      "image/png": "[encoded data removed]",
      "text/plain": [
       "<Figure size 432x288 with 1 Axes>"
      ]
     },
     "metadata": {
      "needs_background": "light"
     },
     "output_type": "display_data"
    }
   ],
   "source": [
    "sns.distplot(h)"
   ]
  },
  {
   "cell_type": "code",
   "execution_count": 256,
   "metadata": {},
   "outputs": [
    {
     "data": {
      "text/plain": [
       "[<matplotlib.lines.Line2D at 0x2460cee6ba8>]"
      ]
     },
     "execution_count": 256,
     "metadata": {},
     "output_type": "execute_result"
    },
    {
     "data": {
      "image/png": "[encoded data removed]",
      "text/plain": [
       "<Figure size 432x288 with 1 Axes>"
      ]
     },
     "metadata": {
      "needs_background": "light"
     },
     "output_type": "display_data"
    }
   ],
   "source": [
    "fit=s.norm.pdf(h,np.mean(h),np.std(h))\n",
    "plt.plot(h,fit,'-o')"
   ]
  },
  {
   "cell_type": "code",
   "execution_count": 166,
   "metadata": {},
   "outputs": [
    {
     "data": {
      "text/plain": [
       "[<matplotlib.lines.Line2D at 0x2460ad78ef0>]"
      ]
     },
     "execution_count": 166,
     "metadata": {},
     "output_type": "execute_result"
    },
    {
     "data": {
      "image/png": "[encoded data removed]",
      "text/plain": [
       "<Figure size 432x288 with 1 Axes>"
      ]
     },
     "metadata": {
      "needs_background": "light"
     },
     "output_type": "display_data"
    }
   ],
   "source": [
    "#cdf\n",
    "x=np.linspace(-5,5,5000)\n",
    "mu=0\n",
    "sigma=1\n",
    "y_pdf=s.norm.pdf(x,mu,sigma)\n",
    "y_cdf=s.norm.cdf(x,mu,sigma)\n",
    "plt.plot(x,y_pdf,label=\"pdf\")\n",
    "plt.plot(x,y_cdf,label=\"cdf\")"
   ]
  },
  {
   "cell_type": "code",
   "execution_count": 171,
   "metadata": {},
   "outputs": [
    {
     "data": {
      "text/plain": [
       "[<matplotlib.lines.Line2D at 0x2460b88a9b0>]"
      ]
     },
     "execution_count": 171,
     "metadata": {},
     "output_type": "execute_result"
    },
    {
     "data": {
      "image/png": "[encoded data removed]",
      "text/plain": [
       "<Figure size 432x288 with 1 Axes>"
      ]
     },
     "metadata": {
      "needs_background": "light"
     },
     "output_type": "display_data"
    }
   ],
   "source": [
    "fit=s.norm.cdf(h,np.mean(h),np.std(h))\n",
    "plt.plot(h,fit,'-o')\n"
   ]
  },
  {
   "cell_type": "code",
   "execution_count": null,
   "metadata": {},
   "outputs": [],
   "source": []
  }
 ],
 "metadata": {
  "kernelspec": {
   "display_name": "Python 3",
   "language": "python",
   "name": "python3"
  },
  "language_info": {
   "codemirror_mode": {
    "name": "ipython",
    "version": 3
   },
   "file_extension": ".py",
   "mimetype": "text/x-python",
   "name": "python",
   "nbconvert_exporter": "python",
   "pygments_lexer": "ipython3",
   "version": "3.6.10"
  }
 },
 "nbformat": 4,
 "nbformat_minor": 4
}
